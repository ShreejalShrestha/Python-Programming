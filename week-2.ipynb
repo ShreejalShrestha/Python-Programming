{
 "cells": [
  {
   "cell_type": "markdown",
   "metadata": {},
   "source": [
    "## For Loop\n",
    "### Iterate Over list, range (enumarator)"
   ]
  },
  {
   "cell_type": "code",
   "execution_count": 6,
   "metadata": {},
   "outputs": [
    {
     "name": "stdout",
     "output_type": "stream",
     "text": [
      "1\n",
      "1\n",
      "2\n",
      "3\n",
      "4\n",
      "3\n",
      "11\n",
      "100\n"
     ]
    }
   ],
   "source": [
    "numbers = [1,1,2,3,4,3,11,100]\n",
    "even_list = []\n",
    "# iterate over list\n",
    "for num in numbers:\n",
    "    print(num)"
   ]
  },
  {
   "cell_type": "markdown",
   "metadata": {},
   "source": [
    "## Create list of even numbers from the given list"
   ]
  },
  {
   "cell_type": "code",
   "execution_count": 7,
   "metadata": {},
   "outputs": [
    {
     "name": "stdout",
     "output_type": "stream",
     "text": [
      "2\n",
      "4\n",
      "100\n",
      "[2, 4, 100]\n",
      "[1, 1, 3, 3, 11]\n",
      "2 exists in numbers\n"
     ]
    }
   ],
   "source": [
    "numbers = [1,1,2,3,4,3,11,100] # list of int\n",
    "\n",
    "even_list = []\n",
    "odd_list = []\n",
    "# iterate over list\n",
    "for num in numbers:\n",
    "    if num %2==0:\n",
    "        print(num)\n",
    "        even_list.append(num)\n",
    "    else:\n",
    "        odd_list.append(num)\n",
    "\n",
    "print(even_list) \n",
    "print(odd_list) \n",
    "\n",
    "if 2 in numbers: # check item exists in list\n",
    "    print('2 exists in numbers')\n"
   ]
  },
  {
   "cell_type": "markdown",
   "metadata": {},
   "source": [
    "## Create list of Unique numbers from the given list"
   ]
  },
  {
   "cell_type": "code",
   "execution_count": 10,
   "metadata": {},
   "outputs": [
    {
     "name": "stdout",
     "output_type": "stream",
     "text": [
      "1\n",
      "2\n",
      "3\n",
      "4\n",
      "11\n",
      "100\n",
      "[1, 2, 3, 4, 11, 100]\n"
     ]
    }
   ],
   "source": [
    "numbers = [1,1,2,3,4,3,11,100]\n",
    "unique_list = []\n",
    "\n",
    "for num in numbers:\n",
    "    if num not in unique_list:\n",
    "        print(num)\n",
    "        unique_list.append(num)\n",
    "\n",
    "print(unique_list)\n"
   ]
  },
  {
   "cell_type": "markdown",
   "metadata": {},
   "source": [
    "## Count Total number of vowels and consonants in the given string"
   ]
  },
  {
   "cell_type": "code",
   "execution_count": 20,
   "metadata": {},
   "outputs": [
    {
     "name": "stdout",
     "output_type": "stream",
     "text": [
      "3\n",
      "8\n"
     ]
    }
   ],
   "source": [
    "sentence = \"Hello World\"\n",
    "vowels = 'aeiou'\n",
    "total_vowels = 0\n",
    "total_consonants = 0\n",
    "for char in sentence:\n",
    "    if char.lower() in vowels:\n",
    "        total_vowels +=1\n",
    "    else:\n",
    "        total_consonants +=1\n",
    "print(total_vowels)\n",
    "print(total_consonants)"
   ]
  },
  {
   "cell_type": "markdown",
   "metadata": {},
   "source": [
    "### Find the sum of all items of given list\n",
    "### Find the average of all items"
   ]
  },
  {
   "cell_type": "code",
   "execution_count": 24,
   "metadata": {},
   "outputs": [
    {
     "name": "stdout",
     "output_type": "stream",
     "text": [
      "96\n",
      "24.0\n"
     ]
    }
   ],
   "source": [
    "### Find the sum of all items of given list\n",
    "### Find the average of all items\n",
    "numbers = [100,1,-10,5]\n",
    "sum = 0\n",
    "for num in numbers:\n",
    "    sum += num\n",
    "    average = sum/len(numbers)\n",
    "\n",
    "print(sum)\n",
    "print(average)\n",
    "\n",
    "\n"
   ]
  },
  {
   "cell_type": "markdown",
   "metadata": {},
   "source": [
    "## Range\n",
    "### range(start, stop, step)"
   ]
  },
  {
   "cell_type": "code",
   "execution_count": 27,
   "metadata": {},
   "outputs": [
    {
     "name": "stdout",
     "output_type": "stream",
     "text": [
      "1\n",
      "3\n",
      "5\n",
      "7\n",
      "9\n"
     ]
    }
   ],
   "source": [
    "range_of_100 = range(1,100)\n",
    "sum = 0\n",
    "for i in range(1,11,2): # for i=0; i<10; i++\n",
    "    print(i)"
   ]
  },
  {
   "cell_type": "markdown",
   "metadata": {},
   "source": [
    "## Inline for loop"
   ]
  },
  {
   "cell_type": "code",
   "execution_count": null,
   "metadata": {},
   "outputs": [],
   "source": [
    "numbers = [1,2,3,5,6,88,19]\n"
   ]
  }
 ],
 "metadata": {
  "kernelspec": {
   "display_name": "Python 3",
   "language": "python",
   "name": "python3"
  },
  "language_info": {
   "codemirror_mode": {
    "name": "ipython",
    "version": 3
   },
   "file_extension": ".py",
   "mimetype": "text/x-python",
   "name": "python",
   "nbconvert_exporter": "python",
   "pygments_lexer": "ipython3",
   "version": "3.12.4"
  }
 },
 "nbformat": 4,
 "nbformat_minor": 2
}
