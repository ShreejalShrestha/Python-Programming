{
 "cells": [
  {
   "cell_type": "markdown",
   "metadata": {},
   "source": [
    "## Shreejal Shrestha"
   ]
  },
  {
   "cell_type": "markdown",
   "metadata": {},
   "source": [
    "## Simple Hello World"
   ]
  },
  {
   "cell_type": "code",
   "execution_count": 12,
   "metadata": {},
   "outputs": [
    {
     "name": "stdout",
     "output_type": "stream",
     "text": [
      "hello world\n"
     ]
    }
   ],
   "source": [
    "hello = (\"hello world\")\n",
    "print (hello)"
   ]
  },
  {
   "cell_type": "markdown",
   "metadata": {},
   "source": [
    "## Python Numbers\n"
   ]
  },
  {
   "cell_type": "code",
   "execution_count": 13,
   "metadata": {},
   "outputs": [
    {
     "name": "stdout",
     "output_type": "stream",
     "text": [
      "3.14\n"
     ]
    }
   ],
   "source": [
    "pi = 3.14\n",
    "print (pi)"
   ]
  },
  {
   "cell_type": "markdown",
   "metadata": {},
   "source": [
    "## Numbers\n"
   ]
  },
  {
   "cell_type": "code",
   "execution_count": 14,
   "metadata": {},
   "outputs": [
    {
     "name": "stdout",
     "output_type": "stream",
     "text": [
      "30\n",
      "12.5\n",
      "<class 'complex'>\n"
     ]
    }
   ],
   "source": [
    "#int\n",
    "age = 30\n",
    "print (age)\n",
    "#float\n",
    "price = 12.5\n",
    "print (price)\n",
    "#imaginary\n",
    "real_imaginary = 1j\n",
    "print(type(real_imaginary))\n"
   ]
  },
  {
   "cell_type": "markdown",
   "metadata": {},
   "source": [
    "## Arithematic Operations\n"
   ]
  },
  {
   "cell_type": "code",
   "execution_count": 15,
   "metadata": {},
   "outputs": [
    {
     "name": "stdout",
     "output_type": "stream",
     "text": [
      "15\n",
      "5\n",
      "50\n",
      "2.0\n",
      "5\n",
      "9765625\n"
     ]
    }
   ],
   "source": [
    "#addition\n",
    "a = 5\n",
    "b = 10\n",
    "sum = a + b\n",
    "print (sum)\n",
    "#subtraction\n",
    "a = 5\n",
    "b = 10\n",
    "substraction = b - a\n",
    "print (substraction)\n",
    "#multipication \n",
    "multiplication = a * b\n",
    "print (multiplication)\n",
    "#division\n",
    "division = b/a\n",
    "print (division)\n",
    "#modolus\n",
    "rem_a_b = a%b\n",
    "print (rem_a_b)\n",
    "#power\n",
    "power = a ** b\n",
    "print (power)\n"
   ]
  },
  {
   "cell_type": "markdown",
   "metadata": {},
   "source": [
    "## String in Python\n",
    "\n",
    "Collection of characters"
   ]
  },
  {
   "cell_type": "code",
   "execution_count": 16,
   "metadata": {},
   "outputs": [
    {
     "name": "stdout",
     "output_type": "stream",
     "text": [
      "Shreejal Shrestha\n",
      "17\n",
      "S\n",
      "e\n",
      "a\n",
      "first last name Shr ejal Sh\n"
     ]
    }
   ],
   "source": [
    "name = \"Shreejal Shrestha\"\n",
    "print (name)\n",
    "#length of the string\n",
    "total_no_of_chars = len(name)\n",
    "print (total_no_of_chars)\n",
    "#get first char\n",
    "first_char = name[0]\n",
    "print (first_char)\n",
    "#get 5th char\n",
    "fifth_char = name[4]\n",
    "print (fifth_char)\n",
    "#last char\n",
    "last_char = name[len(name)-1]\n",
    "print (last_char)\n",
    "\n",
    "#sub-string\n",
    "first_name = name[0:3] # 0,1,2\n",
    "last_name = name[4:11] #4,5,6,7,8,9,10\n",
    "print (\"first last name\", first_name, last_name)"
   ]
  },
  {
   "cell_type": "markdown",
   "metadata": {},
   "source": [
    "## Indexing using range"
   ]
  },
  {
   "cell_type": "code",
   "execution_count": 17,
   "metadata": {},
   "outputs": [
    {
     "name": "stdout",
     "output_type": "stream",
     "text": [
      "Susman  Raj  Shrestha\n"
     ]
    },
    {
     "data": {
      "text/plain": [
       "['Susman', 'Raj', 'Shrestha']"
      ]
     },
     "execution_count": 17,
     "metadata": {},
     "output_type": "execute_result"
    }
   ],
   "source": [
    "name = \"Susman Raj Shrestha\"\n",
    "first_name = name [:6]\n",
    "middle_name = name [6:11]\n",
    "last_name = name [11:]\n",
    "print (first_name, middle_name, last_name)\n",
    "name.split()"
   ]
  },
  {
   "cell_type": "markdown",
   "metadata": {},
   "source": [
    "## Boolean"
   ]
  },
  {
   "cell_type": "code",
   "execution_count": 18,
   "metadata": {},
   "outputs": [
    {
     "name": "stdout",
     "output_type": "stream",
     "text": [
      "True False\n"
     ]
    }
   ],
   "source": [
    "passed = True\n",
    "active = False\n",
    "print(passed, active)"
   ]
  },
  {
   "cell_type": "markdown",
   "metadata": {},
   "source": [
    "## Conditional statements If else"
   ]
  },
  {
   "cell_type": "code",
   "execution_count": 19,
   "metadata": {},
   "outputs": [
    {
     "name": "stdout",
     "output_type": "stream",
     "text": [
      "I don't have to wake up second\n",
      "test\n"
     ]
    }
   ],
   "source": [
    "day = int(input(\"Enter day\"))\n",
    "if day == 4:\n",
    "    print (\"I have to wake up first\")\n",
    "    print (\"I have to eat \")\n",
    "    print (\"I have to sleep\")\n",
    "elif day == 5:\n",
    "    print (\"I donot have to wake up first\")\n",
    "    print (\"I don't have to eat \")\n",
    "    print (\"I don't have to sleep\")\n",
    "else:\n",
    "    print (\"I don't have to wake up second\")\n",
    "print ('test')"
   ]
  },
  {
   "cell_type": "code",
   "execution_count": 20,
   "metadata": {},
   "outputs": [
    {
     "name": "stdout",
     "output_type": "stream",
     "text": [
      "given number is odd number\n"
     ]
    }
   ],
   "source": [
    "# write a program to findout that the given number is odd or even\n",
    "number = int(input(\"enter a number\"))\n",
    "if number % 2 ==0:\n",
    "    print(\"given number is even number\")\n",
    "else:\n",
    "    print (\"given number is odd number\")"
   ]
  },
  {
   "cell_type": "markdown",
   "metadata": {},
   "source": [
    "## Conditional with range\n"
   ]
  },
  {
   "cell_type": "code",
   "execution_count": 3,
   "metadata": {},
   "outputs": [
    {
     "name": "stdout",
     "output_type": "stream",
     "text": [
      "getting ready\n"
     ]
    }
   ],
   "source": [
    "### if time is\n",
    "### between 10-12 print its time for python\n",
    "### between 12-14 print its time for DSA\n",
    "### between 14-15 print its time for English\n",
    "### default \"getting ready\"\n",
    "time = int(input(\"Enter a time\"))\n",
    "if time >10 and time < 12:\n",
    "    print(\"The time is for python\")\n",
    "elif time >=12 and time <14:\n",
    "    print(\"The time is for DSA\")\n",
    "elif time >=14 and time <15:\n",
    "    print(\"The time is for English\")\n",
    "else:\n",
    "    print(\"getting ready\")"
   ]
  },
  {
   "cell_type": "code",
   "execution_count": 22,
   "metadata": {},
   "outputs": [
    {
     "name": "stdout",
     "output_type": "stream",
     "text": [
      "Price for cable car is Rs. 50\n"
     ]
    }
   ],
   "source": [
    "# if you are from \"Nepal\" or \"India\" ticket for cablecar 50 else \n",
    "country = input(\"enter the name of country\")\n",
    "if country.lower() == \"nepal\" or country.lower() == \"india\":\n",
    "    print (\"Price for cable car is Rs. 50\")\n",
    "else:\n",
    "    print(\"Ticket for cable car is RS. 100\")"
   ]
  },
  {
   "cell_type": "markdown",
   "metadata": {},
   "source": [
    "## While Loop"
   ]
  },
  {
   "cell_type": "code",
   "execution_count": 29,
   "metadata": {},
   "outputs": [
    {
     "name": "stdout",
     "output_type": "stream",
     "text": [
      "hello 0 \n",
      "hello 1 \n",
      "hello 2 \n",
      "hello 3 \n",
      "hello 4 \n",
      "hello 5 \n",
      "hello 6 \n",
      "hello 7 \n",
      "hello 8 \n",
      "hello 9 \n"
     ]
    }
   ],
   "source": [
    "\n",
    "counter = 0\n",
    "while counter < 10:\n",
    "    print (f\"hello {counter} \")\n",
    "    counter +=1\n",
    "\n"
   ]
  },
  {
   "cell_type": "code",
   "execution_count": 30,
   "metadata": {},
   "outputs": [
    {
     "name": "stdout",
     "output_type": "stream",
     "text": [
      "Hello 10\n",
      "Hello 9\n",
      "Hello 8\n",
      "Hello 7\n",
      "Hello 6\n",
      "Hello 5\n",
      "Hello 4\n",
      "Hello 3\n",
      "Hello 2\n",
      "Hello 1\n"
     ]
    }
   ],
   "source": [
    "counter = 10\n",
    "while counter >0:\n",
    "    print (f\"Hello {counter}\")\n",
    "    counter -=1\n",
    "    "
   ]
  },
  {
   "cell_type": "markdown",
   "metadata": {},
   "source": [
    "## Find the sum of first n = 100 natural numbers"
   ]
  },
  {
   "cell_type": "code",
   "execution_count": 38,
   "metadata": {},
   "outputs": [
    {
     "name": "stdout",
     "output_type": "stream",
     "text": [
      "5050\n"
     ]
    }
   ],
   "source": [
    "n = 100 \n",
    "counter = 1\n",
    "sum = 0\n",
    "while counter <=n:\n",
    "    sum += counter\n",
    "    counter +=1\n",
    "\n",
    "print(sum)"
   ]
  },
  {
   "cell_type": "markdown",
   "metadata": {},
   "source": [
    "## find the sum of even numbers of first n natural numbers"
   ]
  },
  {
   "cell_type": "code",
   "execution_count": 39,
   "metadata": {},
   "outputs": [
    {
     "name": "stdout",
     "output_type": "stream",
     "text": [
      "2550\n"
     ]
    }
   ],
   "source": [
    "n = 100\n",
    "counter = 1\n",
    "sum = 0\n",
    "while counter<=n :\n",
    "    if counter%2 ==0:\n",
    "        sum += counter\n",
    "    counter+=1\n",
    "\n",
    "print(sum)"
   ]
  },
  {
   "cell_type": "markdown",
   "metadata": {},
   "source": [
    "## reverse the given string\n",
    "\n",
    "## address = \"Kathmandu Nepal\""
   ]
  },
  {
   "cell_type": "code",
   "execution_count": 54,
   "metadata": {},
   "outputs": [
    {
     "name": "stdout",
     "output_type": "stream",
     "text": [
      "lapeN udnamhtaK\n"
     ]
    }
   ],
   "source": [
    "# reverse the given string address = \"Kathmandu Nepal\"\n",
    "address = \"Kathmandu Nepal\"\n",
    "length = len(address)-1\n",
    "reversed_string = ''\n",
    "while length >=0:\n",
    "    reversed_string +=  address[length]\n",
    "    length -=1\n",
    "\n",
    "print (reversed_string)\n"
   ]
  },
  {
   "cell_type": "markdown",
   "metadata": {},
   "source": [
    "## Python List\n",
    "\n",
    "List is ordered collection of items"
   ]
  },
  {
   "cell_type": "code",
   "execution_count": 2,
   "metadata": {},
   "outputs": [
    {
     "name": "stdout",
     "output_type": "stream",
     "text": [
      "1\n",
      "8\n",
      "5\n"
     ]
    }
   ],
   "source": [
    "numbers = [1,2,3,4,5,5,5,5]\n",
    "students = ['Ram' , 'Hari']\n",
    "\n",
    "#access elements from list\n",
    "first_number = numbers[0]\n",
    "print (first_number)\n",
    "#count total number of items\n",
    "total_items = len(numbers)\n",
    "print (total_items)\n",
    "#last element\n",
    "last_element = numbers[total_items-1]\n",
    "print(last_element)"
   ]
  },
  {
   "cell_type": "code",
   "execution_count": 7,
   "metadata": {},
   "outputs": [
    {
     "name": "stdout",
     "output_type": "stream",
     "text": [
      "[1, 4, 3, 5, 6, 7, 1, 1]\n",
      "[1, 4, 3, 5, 6, 7, 1, 1, 8]\n",
      "[1, 4, 3, 5, 6, 7, 1, 1]\n",
      "[1, 4, 3, 6, 7, 1, 1]\n",
      "3\n",
      "[1, 2, 3, 4]\n",
      "[]\n"
     ]
    }
   ],
   "source": [
    "numbers =[1,4,3,5,6,7,1,1]\n",
    "print (numbers)\n",
    "#append item\n",
    "numbers.append(8)\n",
    "print(numbers)\n",
    "#remove last item\n",
    "numbers.pop()\n",
    "print (numbers)\n",
    "#remove\n",
    "numbers.remove(5)\n",
    "print (numbers)\n",
    "#insert\n",
    "numbers.insert(2, 10)\n",
    "#count\n",
    "print (numbers.count(1))\n",
    "numbers_1 = [1,2]\n",
    "numbers_2 = [3,4]\n",
    "numbers_1.extend(numbers_2) #print(numbers_1 + numbers_2)\n",
    "print (numbers_1)\n",
    "#clear\n",
    "numbers_1.clear()\n",
    "print (numbers_1)"
   ]
  },
  {
   "cell_type": "code",
   "execution_count": 26,
   "metadata": {},
   "outputs": [
    {
     "name": "stdout",
     "output_type": "stream",
     "text": [
      "6 5\n",
      "['Ram', 'Hari']\n",
      "Ram exist in a\n"
     ]
    }
   ],
   "source": [
    "#\n",
    "a = 5\n",
    "b = a #copy by value\n",
    "a = a + 1\n",
    "print (a,b)\n",
    "a = ['Ram' , 'Hari']\n",
    "b = a #deep copy (copy by reference)\n",
    "b = a.copy() #Shallow copy\n",
    "a.append('Gopal')\n",
    "print(b)\n",
    "# check value exist in list\n",
    "if 'Ram' in a:\n",
    "    print ('Ram exist in a')\n"
   ]
  },
  {
   "cell_type": "markdown",
   "metadata": {},
   "source": [
    "## loop through List (iterate over list)\n",
    "### find the sum of all items os given list"
   ]
  },
  {
   "cell_type": "code",
   "execution_count": 32,
   "metadata": {},
   "outputs": [
    {
     "name": "stdout",
     "output_type": "stream",
     "text": [
      "1\n",
      "2\n",
      "3\n",
      "4\n",
      "5\n",
      "6\n",
      "6\n",
      "27\n"
     ]
    }
   ],
   "source": [
    "\n",
    "numbers = [1,2,3,4,5,6,6]\n",
    "\n",
    "total_items = len(numbers)\n",
    "index = 0\n",
    "sum = 0\n",
    "while index < total_items:\n",
    "    element = numbers[index]\n",
    "    sum += element\n",
    "    print (element)\n",
    "    index +=1\n",
    "\n",
    "print (sum)\n"
   ]
  },
  {
   "cell_type": "markdown",
   "metadata": {},
   "source": [
    "### find the max value from the given list"
   ]
  },
  {
   "cell_type": "code",
   "execution_count": 38,
   "metadata": {},
   "outputs": [
    {
     "name": "stdout",
     "output_type": "stream",
     "text": [
      "6\n"
     ]
    }
   ],
   "source": [
    "\n",
    "numbers = [1,2,3,4,5,6,6]\n",
    "total_items = len(numbers)\n",
    "index = 0\n",
    "max_value = numbers[0]\n",
    "while index < total_items:\n",
    "    element = numbers[index]\n",
    "    if element > max_value:\n",
    "        max_value = element\n",
    "    index +=1\n",
    "print (max_value)"
   ]
  },
  {
   "cell_type": "markdown",
   "metadata": {},
   "source": [
    "# Filter values"
   ]
  },
  {
   "cell_type": "code",
   "execution_count": 47,
   "metadata": {},
   "outputs": [
    {
     "name": "stdout",
     "output_type": "stream",
     "text": [
      "['Hari', 'Gopal']\n"
     ]
    }
   ],
   "source": [
    "students = ['Ram', 'Hari', 'Gopal']\n",
    "filtered_students = [i for i in students if i != 'Ram']\n",
    "print (filtered_students)\n"
   ]
  },
  {
   "cell_type": "markdown",
   "metadata": {},
   "source": [
    "## create list of even numbers from given list"
   ]
  },
  {
   "cell_type": "code",
   "execution_count": 50,
   "metadata": {},
   "outputs": [
    {
     "name": "stdout",
     "output_type": "stream",
     "text": [
      "[2, 4, 4, 2, 6, 8, 6]\n"
     ]
    }
   ],
   "source": [
    "\n",
    "numbers = [1,2,3,4,5,4,2,6,7,8,6,]\n",
    "even_numbers = [numbers for numbers in numbers if numbers %2==0]\n",
    "print(even_numbers)"
   ]
  },
  {
   "cell_type": "markdown",
   "metadata": {},
   "source": [
    "## join all list items into single string"
   ]
  },
  {
   "cell_type": "code",
   "execution_count": null,
   "metadata": {},
   "outputs": [],
   "source": []
  }
 ],
 "metadata": {
  "kernelspec": {
   "display_name": "Python 3",
   "language": "python",
   "name": "python3"
  },
  "language_info": {
   "codemirror_mode": {
    "name": "ipython",
    "version": 3
   },
   "file_extension": ".py",
   "mimetype": "text/x-python",
   "name": "python",
   "nbconvert_exporter": "python",
   "pygments_lexer": "ipython3",
   "version": "3.12.4"
  }
 },
 "nbformat": 4,
 "nbformat_minor": 2
}
